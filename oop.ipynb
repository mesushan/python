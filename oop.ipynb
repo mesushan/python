{
 "cells": [
  {
   "cell_type": "markdown",
   "metadata": {},
   "source": [
    "### Object Oriented Programming"
   ]
  },
  {
   "cell_type": "code",
   "execution_count": 1,
   "metadata": {},
   "outputs": [],
   "source": [
    "# make autocomplet working\n",
    "%config Completer.use_jedi = False"
   ]
  },
  {
   "cell_type": "code",
   "execution_count": 10,
   "metadata": {},
   "outputs": [
    {
     "name": "stdout",
     "output_type": "stream",
     "text": [
      "HELLO\n"
     ]
    }
   ],
   "source": [
    "string = 'hello'\n",
    "print(string.upper())"
   ]
  },
  {
   "cell_type": "code",
   "execution_count": 16,
   "metadata": {},
   "outputs": [
    {
     "name": "stdout",
     "output_type": "stream",
     "text": [
      "bark\n",
      "<class '__main__.Dog'>\n"
     ]
    }
   ],
   "source": [
    "class Dog:\n",
    "    def bark(self):\n",
    "        print('bark')\n",
    "        \n",
    "d = Dog()\n",
    "d.bark()\n",
    "print(type(d))"
   ]
  },
  {
   "cell_type": "markdown",
   "metadata": {},
   "source": [
    "##### __main__ is the main module used and is object of class Dog"
   ]
  },
  {
   "cell_type": "code",
   "execution_count": 22,
   "metadata": {},
   "outputs": [
    {
     "name": "stdout",
     "output_type": "stream",
     "text": [
      "bark\n",
      "3\n",
      "<class '__main__.Dog'>\n"
     ]
    }
   ],
   "source": [
    "class Dog:\n",
    "    def add(self,x):\n",
    "        return x +1\n",
    "    \n",
    "    def bark(self):\n",
    "        print('bark')\n",
    "        \n",
    "d = Dog()\n",
    "d.bark()\n",
    "print(d.add(2))\n",
    "print(type(d))"
   ]
  },
  {
   "cell_type": "code",
   "execution_count": 23,
   "metadata": {},
   "outputs": [
    {
     "name": "stdout",
     "output_type": "stream",
     "text": [
      "Tim\n"
     ]
    }
   ],
   "source": [
    "class Dog:\n",
    "    # the __init__ method is called whenever we create an object of Dog\n",
    "    # self passes reference to the object whenever we call the class\n",
    "    def __init__(self,name):\n",
    "        #creating attribute name of class Dog\n",
    "        self.name = name\n",
    "        print(name)\n",
    "        \n",
    "    def add(self,x):\n",
    "        return x +1\n",
    "    \n",
    "    def bark(self):\n",
    "        print('bark')\n",
    "        \n",
    "d = Dog('Tim')"
   ]
  },
  {
   "cell_type": "code",
   "execution_count": 27,
   "metadata": {},
   "outputs": [
    {
     "name": "stdout",
     "output_type": "stream",
     "text": [
      "Tim\n",
      "Hari\n"
     ]
    }
   ],
   "source": [
    "class Dog:\n",
    "    def __init__(self,name):\n",
    "        self.name = name\n",
    "        print(name)\n",
    "        \n",
    "    def add(self,x):\n",
    "        return x +1\n",
    "    \n",
    "    def bark(self):\n",
    "        print('bark')\n",
    "        \n",
    "d = Dog('Tim')\n",
    "d1 = Dog('Hari')"
   ]
  },
  {
   "cell_type": "markdown",
   "metadata": {},
   "source": [
    "##### Now we have 2 diff dog objects with name Tim and Hari and both stored diff names inside of their instance"
   ]
  },
  {
   "cell_type": "code",
   "execution_count": 28,
   "metadata": {},
   "outputs": [
    {
     "name": "stdout",
     "output_type": "stream",
     "text": [
      "Tim\n",
      "Hari\n"
     ]
    }
   ],
   "source": [
    "class Dog:\n",
    "    def __init__(self,name):\n",
    "        self.name = name\n",
    "        \n",
    "    def add(self,x):\n",
    "        return x +1\n",
    "    \n",
    "    def bark(self):\n",
    "        print('bark')\n",
    "        \n",
    "d = Dog('Tim')\n",
    "print(d.name)\n",
    "d1 = Dog('Hari')\n",
    "print(d1.name)"
   ]
  },
  {
   "cell_type": "markdown",
   "metadata": {},
   "source": [
    "##### Although the print statement is removed from init method, it still got printed as it is stored\n",
    "* Everything that is stored with self can be referenced and called from other methods inside that class"
   ]
  },
  {
   "cell_type": "code",
   "execution_count": 29,
   "metadata": {},
   "outputs": [
    {
     "name": "stdout",
     "output_type": "stream",
     "text": [
      "Tim\n",
      "Hari\n"
     ]
    }
   ],
   "source": [
    "class Dog:\n",
    "    def __init__(self,name):\n",
    "        self.name = name\n",
    "    \n",
    "    def get_name(self):\n",
    "        return self.name\n",
    "    \n",
    "d = Dog('Tim')\n",
    "print(d.get_name())\n",
    "d1 = Dog('Hari')\n",
    "print(d1.get_name())"
   ]
  },
  {
   "cell_type": "code",
   "execution_count": 32,
   "metadata": {},
   "outputs": [
    {
     "name": "stdout",
     "output_type": "stream",
     "text": [
      "Tim\n",
      "2\n"
     ]
    }
   ],
   "source": [
    "class Dog:\n",
    "    def __init__(self,name,age):\n",
    "        self.name = name\n",
    "        self.age = age\n",
    "    \n",
    "    def get_name(self):\n",
    "        return self.name\n",
    "    \n",
    "    def get_age(self):\n",
    "        return self.age\n",
    "    \n",
    "d = Dog('Tim', 2)\n",
    "print(d.get_name())\n",
    "print(d.get_age())"
   ]
  },
  {
   "cell_type": "code",
   "execution_count": 36,
   "metadata": {},
   "outputs": [
    {
     "name": "stdout",
     "output_type": "stream",
     "text": [
      "Tim\n",
      "3\n"
     ]
    }
   ],
   "source": [
    "class Dog:\n",
    "    def __init__(self,name,age):\n",
    "        self.name = name\n",
    "        self.age = age\n",
    "    \n",
    "    def get_name(self):\n",
    "        return self.name\n",
    "    \n",
    "    def get_age(self):\n",
    "        return self.age\n",
    "    \n",
    "    def set_age(self, age):\n",
    "        self.age = age\n",
    "    \n",
    "d = Dog('Tim', 2)\n",
    "print(d.get_name())\n",
    "d.set_age(3)\n",
    "print(d.get_age())"
   ]
  },
  {
   "cell_type": "markdown",
   "metadata": {},
   "source": [
    "#### This shows that we can access and modify the attributes from init to different methods in the class"
   ]
  },
  {
   "cell_type": "markdown",
   "metadata": {},
   "source": [
    "### Inheritance in OOP"
   ]
  },
  {
   "cell_type": "code",
   "execution_count": 15,
   "metadata": {},
   "outputs": [
    {
     "name": "stdout",
     "output_type": "stream",
     "text": [
      "I am Alu and I am 4 years old.\n",
      "I am unaware what to say dude!\n",
      "meow meow .. happy dude!\n",
      "I am Winscoin and I am 2 years old and I am blue\n",
      "Bark bark .. happy u!\n",
      "I am Jack and I am 12 years old.\n",
      "won't speak today .. happy u!\n",
      "I am Wisdom and I am 3 years old and I am black\n"
     ]
    }
   ],
   "source": [
    "class Pet:\n",
    "    def __init__(self,name,age):\n",
    "        self.name = name\n",
    "        self.age = age\n",
    "    \n",
    "    def show(self):\n",
    "        print(f'I am {self.name} and I am {self.age} years old.')\n",
    "    \n",
    "    def speak(self):\n",
    "        print('I am unaware what to say dude!')\n",
    "    \n",
    "\n",
    "class Cat(Pet):\n",
    "    '''Inheriting the attributes of parent class and assigning more class specific for this class'''\n",
    "    def __init__(self, name, age, color):\n",
    "        # name and age inherits from parent Pet class with super()\n",
    "        super().__init__(name, age)\n",
    "        self.color = color\n",
    "        \n",
    "    def speak(self):\n",
    "        print('meow meow .. happy dude!')\n",
    "        \n",
    "    def show(self):\n",
    "        print(f'I am {self.name} and I am {self.age} years old and I am {self.color}')\n",
    "        \n",
    "    \n",
    "class Dog(Pet):\n",
    "    '''\n",
    "    As the Pet class is passed in Dog class, it inheirts all attributes of parent Pet class.\n",
    "    If you are not assigning extra attributes, no need to implement the __init__ method.\n",
    "    '''\n",
    "    def speak(self):\n",
    "        print('Bark bark .. happy u!')\n",
    "        \n",
    "    def show(self):\n",
    "        print(f'I am {self.name} and I am {self.age} years old.')\n",
    "        \n",
    "        \n",
    "class Test(Cat):\n",
    "    '''\n",
    "    Inheriting all attributes from Cat class which also inherites from Pet class.\n",
    "    If you are not assigning extra attributes, no need to implement the __init__ method.\n",
    "    '''\n",
    "    def speak(self):\n",
    "        print('won\\'t speak today .. happy u!')\n",
    "        \n",
    "    def show(self):\n",
    "        print(f'I am {self.name} and I am {self.age} years old and I am {self.color}')\n",
    "        \n",
    "    \n",
    "p = Pet('Alu',4)\n",
    "p.show()\n",
    "p.speak()\n",
    "\n",
    "c = Cat('Winscoin',2,'blue')\n",
    "c.speak()\n",
    "c.show()\n",
    "\n",
    "d = Dog('Jack',12)\n",
    "d.speak()\n",
    "d.show()\n",
    "\n",
    "t = Test('Wisdom', 3, 'black')\n",
    "t.speak()\n",
    "t.show()"
   ]
  },
  {
   "cell_type": "code",
   "execution_count": null,
   "metadata": {},
   "outputs": [],
   "source": []
  }
 ],
 "metadata": {
  "kernelspec": {
   "display_name": "Python 3",
   "language": "python",
   "name": "python3"
  },
  "language_info": {
   "codemirror_mode": {
    "name": "ipython",
    "version": 3
   },
   "file_extension": ".py",
   "mimetype": "text/x-python",
   "name": "python",
   "nbconvert_exporter": "python",
   "pygments_lexer": "ipython3",
   "version": "3.8.6"
  }
 },
 "nbformat": 4,
 "nbformat_minor": 4
}
